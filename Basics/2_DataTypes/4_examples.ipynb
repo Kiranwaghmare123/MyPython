{
 "cells": [
  {
   "cell_type": "markdown",
   "metadata": {},
   "source": [
    "#### Doubts"
   ]
  },
  {
   "cell_type": "code",
   "execution_count": 3,
   "metadata": {
    "ExecuteTime": {
     "end_time": "2018-09-10T16:17:15.755460Z",
     "start_time": "2018-09-10T16:17:15.739504Z"
    }
   },
   "outputs": [
    {
     "ename": "ValueError",
     "evalue": "3 is not in list",
     "output_type": "error",
     "traceback": [
      "\u001b[1;31m---------------------------------------------------------------------------\u001b[0m",
      "\u001b[1;31mValueError\u001b[0m                                Traceback (most recent call last)",
      "\u001b[1;32m<ipython-input-3-ae6d71ddded6>\u001b[0m in \u001b[0;36m<module>\u001b[1;34m()\u001b[0m\n\u001b[0;32m      1\u001b[0m \u001b[0mlst\u001b[0m \u001b[1;33m=\u001b[0m \u001b[1;33m[\u001b[0m\u001b[1;36m1\u001b[0m\u001b[1;33m,\u001b[0m \u001b[1;36m2\u001b[0m\u001b[1;33m,\u001b[0m \u001b[1;36m3\u001b[0m\u001b[1;33m,\u001b[0m \u001b[1;36m4\u001b[0m\u001b[1;33m,\u001b[0m \u001b[1;36m5\u001b[0m\u001b[1;33m,\u001b[0m \u001b[1;36m6\u001b[0m\u001b[1;33m,\u001b[0m \u001b[1;36m3\u001b[0m\u001b[1;33m,\u001b[0m \u001b[1;36m8\u001b[0m\u001b[1;33m,\u001b[0m \u001b[1;36m9\u001b[0m\u001b[1;33m]\u001b[0m\u001b[1;33m\u001b[0m\u001b[0m\n\u001b[0;32m      2\u001b[0m \u001b[1;33m\u001b[0m\u001b[0m\n\u001b[1;32m----> 3\u001b[1;33m \u001b[0mlst\u001b[0m\u001b[1;33m.\u001b[0m\u001b[0mindex\u001b[0m\u001b[1;33m(\u001b[0m\u001b[1;36m3\u001b[0m\u001b[1;33m,\u001b[0m \u001b[1;36m3\u001b[0m\u001b[1;33m,\u001b[0m \u001b[1;36m6\u001b[0m\u001b[1;33m)\u001b[0m \u001b[1;31m# element, starting, ending\u001b[0m\u001b[1;33m\u001b[0m\u001b[0m\n\u001b[0m",
      "\u001b[1;31mValueError\u001b[0m: 3 is not in list"
     ]
    }
   ],
   "source": [
    "lst = [1, 2, 3, 4, 5, 6, 3, 8, 9]\n",
    "\n",
    "lst.index(3, 3, 6) # element, starting, ending"
   ]
  },
  {
   "cell_type": "code",
   "execution_count": 5,
   "metadata": {
    "ExecuteTime": {
     "end_time": "2018-09-10T16:28:15.167278Z",
     "start_time": "2018-09-10T16:28:15.162292Z"
    }
   },
   "outputs": [
    {
     "name": "stdout",
     "output_type": "stream",
     "text": [
      "2\n"
     ]
    }
   ],
   "source": [
    "string = 'abcdefghijklfgh'\n",
    "\n",
    "substring = 'fgh'\n",
    "\n",
    "print(sum([ 1 for i in range(len(string)-len(substring)+1) if string[i:i+len(substring)] == substring]))"
   ]
  },
  {
   "cell_type": "code",
   "execution_count": null,
   "metadata": {},
   "outputs": [],
   "source": [
    "# Prateek\n",
    "\n",
    "# == vs is"
   ]
  },
  {
   "cell_type": "code",
   "execution_count": 30,
   "metadata": {
    "ExecuteTime": {
     "end_time": "2018-09-10T14:36:59.562702Z",
     "start_time": "2018-09-10T14:36:59.558791Z"
    }
   },
   "outputs": [],
   "source": [
    "# # Prateek\n",
    "\n",
    "# # negative lookahead assertion\n",
    "\n",
    "# import re\n",
    "\n",
    "# matcher = re.finditer('(?![p-x])[a-z]', 'abcdefghijklmnopqrstuvwxyz')\n",
    "\n",
    "# count = 0\n",
    "\n",
    "# for m in matcher:\n",
    "#     count += 1\n",
    "#     print('Match is at:{}, End:{}, Pattern found: {}'\\\n",
    "#           .format(m.start(), m.end(), m.group()))\n",
    "# print('Total count: ',count)"
   ]
  },
  {
   "cell_type": "markdown",
   "metadata": {},
   "source": [
    "#### Write a program to access each character of string in forward and backward direction"
   ]
  },
  {
   "cell_type": "code",
   "execution_count": 3,
   "metadata": {
    "ExecuteTime": {
     "end_time": "2018-09-10T13:56:07.663836Z",
     "start_time": "2018-09-10T13:56:07.657471Z"
    },
    "scrolled": true
   },
   "outputs": [
    {
     "name": "stdout",
     "output_type": "stream",
     "text": [
      "Forward direction\n",
      "C h a i   p i   l o   f r a n d s ! ! \n",
      "Backward direction\n",
      "! ! s d n a r f   o l   i p   i a h C "
     ]
    }
   ],
   "source": [
    "s = \"Chai pi lo frands!!\"\n",
    "n=len(s)\n",
    "i=0\n",
    "print(\"Forward direction\")\n",
    "while i<n:\n",
    "    print(s[i],end=' ')\n",
    "    i +=1\n",
    "print()\n",
    "print(\"Backward direction\")\n",
    "i=-1\n",
    "while i>=-n:\n",
    "    print(s[i],end=' ')\n",
    "    i=i-1"
   ]
  },
  {
   "cell_type": "code",
   "execution_count": 4,
   "metadata": {
    "ExecuteTime": {
     "end_time": "2018-09-10T13:58:09.051111Z",
     "start_time": "2018-09-10T13:58:09.044827Z"
    },
    "scrolled": true
   },
   "outputs": [
    {
     "name": "stdout",
     "output_type": "stream",
     "text": [
      "Forward direction\n",
      "C h a i   p i   l o   f r a n d s ! ! \n",
      "Backward direction\n",
      "! ! s d n a r f   o l   i p   i a h C "
     ]
    }
   ],
   "source": [
    "s = \"Chai pi lo frands!!\"\n",
    "print(\"Forward direction\")\n",
    "for i in s[::]:\n",
    "    print(i, end = ' ')\n",
    "    \n",
    "print()\n",
    "\n",
    "print('Backward direction')\n",
    "for i in s[::-1]:\n",
    "    print(i, end = ' ')"
   ]
  },
  {
   "cell_type": "markdown",
   "metadata": {},
   "source": [
    "#### Changing Case of a String"
   ]
  },
  {
   "cell_type": "code",
   "execution_count": 31,
   "metadata": {
    "ExecuteTime": {
     "end_time": "2018-09-10T14:54:33.303206Z",
     "start_time": "2018-09-10T14:54:33.298180Z"
    },
    "scrolled": true
   },
   "outputs": [
    {
     "name": "stdout",
     "output_type": "stream",
     "text": [
      "CHAI PI LO FRANDS!!\n",
      "chai pi lo frands!!\n",
      "CHAI pi LO FrANdS!!\n",
      "Chai Pi Lo Frands!!\n",
      "Chai pi lo frands!!\n"
     ]
    }
   ],
   "source": [
    "s = \"chai PI lo fRanDs!!\"\n",
    "\n",
    "print(s.upper())\n",
    "\n",
    "print(s.lower())\n",
    "\n",
    "print(s.swapcase())\n",
    "\n",
    "print(s.title())\n",
    "\n",
    "print(s.capitalize())"
   ]
  },
  {
   "cell_type": "markdown",
   "metadata": {},
   "source": [
    "#### Merging two arrays"
   ]
  },
  {
   "cell_type": "markdown",
   "metadata": {},
   "source": [
    "![title](img/1.png)"
   ]
  },
  {
   "cell_type": "code",
   "execution_count": 6,
   "metadata": {
    "ExecuteTime": {
     "end_time": "2018-09-10T16:50:53.491134Z",
     "start_time": "2018-09-10T16:50:53.485150Z"
    }
   },
   "outputs": [
    {
     "name": "stdout",
     "output_type": "stream",
     "text": [
      "[1, 2, 3, 4, 5, 6]\n"
     ]
    }
   ],
   "source": [
    "l1 = [1,2,3]\n",
    "\n",
    "l2 = [4,5,6]\n",
    "\n",
    "print(l1 + l2)"
   ]
  },
  {
   "cell_type": "markdown",
   "metadata": {},
   "source": [
    "![title](img/2.jpg)"
   ]
  },
  {
   "cell_type": "code",
   "execution_count": 8,
   "metadata": {
    "ExecuteTime": {
     "end_time": "2018-09-10T17:00:18.329898Z",
     "start_time": "2018-09-10T17:00:18.316929Z"
    }
   },
   "outputs": [
    {
     "name": "stdout",
     "output_type": "stream",
     "text": [
      "a\n",
      "a\n",
      "None\n",
      "a\n",
      "A\n"
     ]
    }
   ],
   "source": [
    "d = {1:'a', 2:'b', 3:'c'}\n",
    "\n",
    "print(d[1])\n",
    "\n",
    "# print(d[4])\n",
    "\n",
    "print(d.get(1))\n",
    "\n",
    "print(d.get(4))\n",
    "\n",
    "print(d.get(1, 'A'))\n",
    "\n",
    "print(d.get(4, 'A'))"
   ]
  },
  {
   "cell_type": "markdown",
   "metadata": {},
   "source": [
    "#### Write a program to find number of occurrences of each vowel present in the given string?"
   ]
  },
  {
   "cell_type": "code",
   "execution_count": 10,
   "metadata": {
    "ExecuteTime": {
     "end_time": "2018-09-10T17:11:00.482568Z",
     "start_time": "2018-09-10T17:10:55.705941Z"
    }
   },
   "outputs": [
    {
     "name": "stdout",
     "output_type": "stream",
     "text": [
      "Enter a word: chai PI lo fRanDs\n",
      "a occured 2 times\n",
      "i occured 1 times\n",
      "o occured 1 times\n"
     ]
    }
   ],
   "source": [
    "word = input('Enter a word: ')\n",
    "\n",
    "vowels = {'a','e','i','o','u'}\n",
    "\n",
    "d = {}\n",
    "\n",
    "for w in word:\n",
    "    if w in vowels:\n",
    "        d[w] = d.get(w, 0)+1\n",
    "\n",
    "for key, value in d.items():\n",
    "    print(key, 'occured', value, 'times')"
   ]
  },
  {
   "cell_type": "markdown",
   "metadata": {},
   "source": [
    "#### Dictionary Comprehension"
   ]
  },
  {
   "cell_type": "code",
   "execution_count": null,
   "metadata": {},
   "outputs": [],
   "source": []
  }
 ],
 "metadata": {
  "kernelspec": {
   "display_name": "Python 3",
   "language": "python",
   "name": "python3"
  },
  "language_info": {
   "codemirror_mode": {
    "name": "ipython",
    "version": 3
   },
   "file_extension": ".py",
   "mimetype": "text/x-python",
   "name": "python",
   "nbconvert_exporter": "python",
   "pygments_lexer": "ipython3",
   "version": "3.6.5"
  },
  "toc": {
   "nav_menu": {},
   "number_sections": true,
   "sideBar": true,
   "skip_h1_title": false,
   "title_cell": "Table of Contents",
   "title_sidebar": "Contents",
   "toc_cell": false,
   "toc_position": {},
   "toc_section_display": true,
   "toc_window_display": false
  },
  "varInspector": {
   "cols": {
    "lenName": 16,
    "lenType": 16,
    "lenVar": 40
   },
   "kernels_config": {
    "python": {
     "delete_cmd_postfix": "",
     "delete_cmd_prefix": "del ",
     "library": "var_list.py",
     "varRefreshCmd": "print(var_dic_list())"
    },
    "r": {
     "delete_cmd_postfix": ") ",
     "delete_cmd_prefix": "rm(",
     "library": "var_list.r",
     "varRefreshCmd": "cat(var_dic_list()) "
    }
   },
   "types_to_exclude": [
    "module",
    "function",
    "builtin_function_or_method",
    "instance",
    "_Feature"
   ],
   "window_display": false
  }
 },
 "nbformat": 4,
 "nbformat_minor": 2
}
