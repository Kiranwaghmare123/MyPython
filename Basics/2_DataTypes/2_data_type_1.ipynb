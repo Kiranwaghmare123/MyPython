{
 "cells": [
  {
   "cell_type": "markdown",
   "metadata": {},
   "source": [
    "## Data Types in Python"
   ]
  },
  {
   "cell_type": "markdown",
   "metadata": {},
   "source": [
    "As we know that python is Dynamically typed programming language, than why do we need to learn about data type at all?\n",
    "\n",
    "Although python automatically understands the data type, but it is important to know about data types so that we can utilize the power of data structures in future.\n",
    "\n",
    "Basic Data Types available in python are:\n",
    "<pre>\n",
    "    <b>Numeric</b> - int, float, complex (Immutable)\n",
    "    <b>Strings</b> (Immutable)\n",
    "    <b>List</b> (Mutable, mostly used to store homogeneous data types)\n",
    "    <b>Tuple</b> (Immutable, faster compared to List)\n",
    "    <b>Set</b> (Unordered collection of items, mutable, removes duplicates)\n",
    "    <b>Dictionary</b> (Unordered collection of Key-Value Pairs, Mutable, Keys are Unique - values may not be unique)\n",
    "</pre>"
   ]
  },
  {
   "cell_type": "markdown",
   "metadata": {},
   "source": [
    "## Numeric Data Type"
   ]
  },
  {
   "cell_type": "code",
   "execution_count": 5,
   "metadata": {
    "ExecuteTime": {
     "end_time": "2018-08-16T08:36:33.719147Z",
     "start_time": "2018-08-16T08:36:33.713162Z"
    }
   },
   "outputs": [
    {
     "name": "stdout",
     "output_type": "stream",
     "text": [
      "<class 'int'>\n",
      "<class 'float'>\n",
      "True\n"
     ]
    }
   ],
   "source": [
    "a = 5\n",
    "\n",
    "print(type(a))\n",
    "\n",
    "print(type(5.0))\n",
    "\n",
    "print(isinstance(a, int))\n"
   ]
  },
  {
   "cell_type": "code",
   "execution_count": null,
   "metadata": {},
   "outputs": [],
   "source": [
    "# In how many ways can we represents the values?\n",
    "\n",
    "# Decimal, Binary, Octal, Hexadecimal\n",
    "\n",
    "# bin(), oct(), hex()"
   ]
  },
  {
   "cell_type": "code",
   "execution_count": 8,
   "metadata": {
    "ExecuteTime": {
     "end_time": "2018-08-16T08:41:05.603517Z",
     "start_time": "2018-08-16T08:41:05.597549Z"
    }
   },
   "outputs": [
    {
     "name": "stdout",
     "output_type": "stream",
     "text": [
      "4\n",
      "64\n",
      "256\n"
     ]
    }
   ],
   "source": [
    "a = 0B100\n",
    "\n",
    "b = 0o100\n",
    "\n",
    "c = 0x100\n",
    "\n",
    "print(a)\n",
    "\n",
    "print(b)\n",
    "\n",
    "print(c)"
   ]
  },
  {
   "cell_type": "code",
   "execution_count": 11,
   "metadata": {
    "ExecuteTime": {
     "end_time": "2018-08-16T08:42:52.197078Z",
     "start_time": "2018-08-16T08:42:52.189096Z"
    }
   },
   "outputs": [
    {
     "name": "stdout",
     "output_type": "stream",
     "text": [
      "64206\n"
     ]
    }
   ],
   "source": [
    "a = 0xFACE\n",
    "\n",
    "print(a)"
   ]
  },
  {
   "cell_type": "code",
   "execution_count": 12,
   "metadata": {
    "ExecuteTime": {
     "end_time": "2018-08-16T08:44:06.353896Z",
     "start_time": "2018-08-16T08:44:06.348911Z"
    }
   },
   "outputs": [
    {
     "name": "stdout",
     "output_type": "stream",
     "text": [
      "<class 'float'>\n"
     ]
    }
   ],
   "source": [
    "b = 10.34\n",
    "\n",
    "print(type(b))"
   ]
  },
  {
   "cell_type": "code",
   "execution_count": 20,
   "metadata": {
    "ExecuteTime": {
     "end_time": "2018-08-16T04:29:07.646430Z",
     "start_time": "2018-08-16T04:29:07.639450Z"
    }
   },
   "outputs": [
    {
     "name": "stdout",
     "output_type": "stream",
     "text": [
      "1.2e+37\n"
     ]
    }
   ],
   "source": [
    "f = 1.2e37\n",
    "\n",
    "# f= 1.23e34 and f= 1.23e+34 are equivalent\n",
    "\n",
    "print(f)"
   ]
  },
  {
   "cell_type": "code",
   "execution_count": 13,
   "metadata": {
    "ExecuteTime": {
     "end_time": "2018-08-16T08:46:53.378268Z",
     "start_time": "2018-08-16T08:46:53.373293Z"
    }
   },
   "outputs": [
    {
     "ename": "SyntaxError",
     "evalue": "invalid syntax (<ipython-input-13-9d53f1a1f9c9>, line 1)",
     "output_type": "error",
     "traceback": [
      "\u001b[1;36m  File \u001b[1;32m\"<ipython-input-13-9d53f1a1f9c9>\"\u001b[1;36m, line \u001b[1;32m1\u001b[0m\n\u001b[1;33m    a = 0b1.1\u001b[0m\n\u001b[1;37m            ^\u001b[0m\n\u001b[1;31mSyntaxError\u001b[0m\u001b[1;31m:\u001b[0m invalid syntax\n"
     ]
    }
   ],
   "source": [
    "a = 0b1.1\n",
    "print(a)"
   ]
  },
  {
   "cell_type": "code",
   "execution_count": 15,
   "metadata": {
    "ExecuteTime": {
     "end_time": "2018-08-16T08:48:34.380910Z",
     "start_time": "2018-08-16T08:48:34.374925Z"
    }
   },
   "outputs": [
    {
     "name": "stdout",
     "output_type": "stream",
     "text": [
      "<class 'complex'>\n"
     ]
    }
   ],
   "source": [
    "x = 5 + 16j\n",
    "\n",
    "print(type(x))"
   ]
  },
  {
   "cell_type": "code",
   "execution_count": 16,
   "metadata": {
    "ExecuteTime": {
     "end_time": "2018-08-16T08:51:03.373030Z",
     "start_time": "2018-08-16T08:51:03.366041Z"
    }
   },
   "outputs": [
    {
     "name": "stdout",
     "output_type": "stream",
     "text": [
      "<class 'complex'>\n",
      "(15+20j)\n",
      "True\n",
      "10.0\n",
      "20.0\n"
     ]
    }
   ],
   "source": [
    "c = 10+20j\n",
    "\n",
    "print(type(c))\n",
    "\n",
    "print(c + 5)\n",
    "\n",
    "print(isinstance(c, complex))\n",
    "\n",
    "print(c.real)\n",
    "\n",
    "print(c.imag)"
   ]
  },
  {
   "cell_type": "code",
   "execution_count": 18,
   "metadata": {
    "ExecuteTime": {
     "end_time": "2018-08-16T08:53:10.065970Z",
     "start_time": "2018-08-16T08:53:10.061989Z"
    }
   },
   "outputs": [
    {
     "name": "stdout",
     "output_type": "stream",
     "text": [
      "(4+10j)\n"
     ]
    }
   ],
   "source": [
    "c = 0b100 + 10j\n",
    "\n",
    "print(c)"
   ]
  },
  {
   "cell_type": "code",
   "execution_count": 19,
   "metadata": {
    "ExecuteTime": {
     "end_time": "2018-08-16T08:54:20.960376Z",
     "start_time": "2018-08-16T08:54:20.957380Z"
    }
   },
   "outputs": [
    {
     "name": "stdout",
     "output_type": "stream",
     "text": [
      "<class 'bool'>\n"
     ]
    }
   ],
   "source": [
    "a = True\n",
    "\n",
    "print(type(a))"
   ]
  },
  {
   "cell_type": "markdown",
   "metadata": {},
   "source": [
    "## Strings"
   ]
  },
  {
   "cell_type": "code",
   "execution_count": 32,
   "metadata": {
    "ExecuteTime": {
     "end_time": "2018-08-16T04:53:54.143869Z",
     "start_time": "2018-08-16T04:53:54.128315Z"
    }
   },
   "outputs": [
    {
     "name": "stdout",
     "output_type": "stream",
     "text": [
      "<class 'str'>\n",
      "<class 'str'>\n",
      "22\n"
     ]
    }
   ],
   "source": [
    "c = 'a'\n",
    "\n",
    "print(type(c))\n",
    "\n",
    "s = 'We are leaning Python!'\n",
    "\n",
    "print(type(s))\n",
    "\n",
    "print(len(s))"
   ]
  },
  {
   "cell_type": "code",
   "execution_count": 23,
   "metadata": {
    "ExecuteTime": {
     "end_time": "2018-08-16T09:02:57.112386Z",
     "start_time": "2018-08-16T09:02:57.107398Z"
    },
    "scrolled": true
   },
   "outputs": [
    {
     "name": "stdout",
     "output_type": "stream",
     "text": [
      "i\n",
      "hi there\n",
      "hi10\n"
     ]
    }
   ],
   "source": [
    "s = 'hi'\n",
    "\n",
    "print(s[1])\n",
    "\n",
    "# print(s[3])\n",
    "\n",
    "# print(s[1.0])\n",
    "\n",
    "print(s+' there')\n",
    "\n",
    "print(s + '10')\n",
    "\n",
    "# try print(s + 10) "
   ]
  },
  {
   "cell_type": "code",
   "execution_count": 24,
   "metadata": {
    "ExecuteTime": {
     "end_time": "2018-08-16T09:04:26.364684Z",
     "start_time": "2018-08-16T09:04:26.358706Z"
    },
    "scrolled": true
   },
   "outputs": [
    {
     "name": "stdout",
     "output_type": "stream",
     "text": [
      " WE ARE LEARING PYTHON! \n",
      " we are learing python! \n",
      "We are learing Python!\n"
     ]
    }
   ],
   "source": [
    "s = ' We are learing Python! '\n",
    "\n",
    "print(s.upper())\n",
    "\n",
    "print(s.lower())\n",
    "\n",
    "print(s.strip()) # Removes extra white spaces from front and back\n",
    "\n",
    "# # isalpha(), isdigit(), isspace()\n",
    "# # startswith('abc'), endswith('abc')\n",
    "# # find('abc') returns first index, otherwise -1\n",
    "# # replace('old', 'new')\n",
    "# # split(' ') return list\n",
    "# # ' '.join(list) return string"
   ]
  },
  {
   "cell_type": "code",
   "execution_count": 39,
   "metadata": {
    "ExecuteTime": {
     "end_time": "2018-08-16T05:12:42.975731Z",
     "start_time": "2018-08-16T05:12:42.966741Z"
    }
   },
   "outputs": [
    {
     "name": "stdout",
     "output_type": "stream",
     "text": [
      "-1\n",
      "We are learning Python!\n",
      "<class 'list'>\n",
      "['We', 'are', 'learning', 'Python!']\n",
      "We are learning Python!\n"
     ]
    }
   ],
   "source": [
    "s = 'We are leaning Python!'\n",
    "\n",
    "print(s.find('learning'))\n",
    "\n",
    "s = s.replace('leaning', 'learning')\n",
    "\n",
    "print(s)\n",
    "\n",
    "split_string = s.split(' ')\n",
    "\n",
    "print(type(split_string))\n",
    "\n",
    "print(split_string)\n",
    "\n",
    "print(' '.join(split_string))"
   ]
  },
  {
   "cell_type": "code",
   "execution_count": 25,
   "metadata": {
    "ExecuteTime": {
     "end_time": "2018-08-16T09:27:17.671658Z",
     "start_time": "2018-08-16T09:27:17.660688Z"
    }
   },
   "outputs": [
    {
     "ename": "TypeError",
     "evalue": "'str' object does not support item assignment",
     "output_type": "error",
     "traceback": [
      "\u001b[1;31m---------------------------------------------------------------------------\u001b[0m",
      "\u001b[1;31mTypeError\u001b[0m                                 Traceback (most recent call last)",
      "\u001b[1;32m<ipython-input-25-873735185836>\u001b[0m in \u001b[0;36m<module>\u001b[1;34m()\u001b[0m\n\u001b[0;32m      1\u001b[0m \u001b[0ms\u001b[0m \u001b[1;33m=\u001b[0m \u001b[1;34m'hi'\u001b[0m\u001b[1;33m\u001b[0m\u001b[0m\n\u001b[0;32m      2\u001b[0m \u001b[1;33m\u001b[0m\u001b[0m\n\u001b[1;32m----> 3\u001b[1;33m \u001b[0ms\u001b[0m\u001b[1;33m[\u001b[0m\u001b[1;36m0\u001b[0m\u001b[1;33m]\u001b[0m \u001b[1;33m=\u001b[0m \u001b[1;34m'H'\u001b[0m\u001b[1;33m\u001b[0m\u001b[0m\n\u001b[0m",
      "\u001b[1;31mTypeError\u001b[0m: 'str' object does not support item assignment"
     ]
    }
   ],
   "source": [
    "s = 'hi'\n",
    "\n",
    "s[0] = 'H'"
   ]
  },
  {
   "cell_type": "code",
   "execution_count": 26,
   "metadata": {
    "ExecuteTime": {
     "end_time": "2018-08-16T09:28:09.301320Z",
     "start_time": "2018-08-16T09:28:09.294284Z"
    }
   },
   "outputs": [
    {
     "name": "stdout",
     "output_type": "stream",
     "text": [
      "6\n"
     ]
    }
   ],
   "source": [
    "a = 5\n",
    "\n",
    "a = 6\n",
    "\n",
    "print(a)"
   ]
  },
  {
   "cell_type": "code",
   "execution_count": 28,
   "metadata": {
    "ExecuteTime": {
     "end_time": "2018-08-16T09:45:01.112840Z",
     "start_time": "2018-08-16T09:45:01.106856Z"
    }
   },
   "outputs": [
    {
     "name": "stdout",
     "output_type": "stream",
     "text": [
      "p\n",
      "ogra\n",
      "programiz\n",
      "progr\n",
      "amiz\n",
      "pormz\n"
     ]
    }
   ],
   "source": [
    "s = 'programiz'\n",
    "\n",
    "print(s[-9])\n",
    "\n",
    "print(s[-7:-3])\n",
    "\n",
    "print(s[:])\n",
    "\n",
    "print(s[:5])\n",
    "\n",
    "print(s[5:])\n",
    "\n",
    "print(s[::2])"
   ]
  },
  {
   "cell_type": "markdown",
   "metadata": {},
   "source": [
    "## Lists"
   ]
  },
  {
   "cell_type": "code",
   "execution_count": 27,
   "metadata": {
    "ExecuteTime": {
     "end_time": "2018-08-16T09:43:00.582231Z",
     "start_time": "2018-08-16T09:43:00.576245Z"
    }
   },
   "outputs": [
    {
     "name": "stdout",
     "output_type": "stream",
     "text": [
      "['shark', 'cuttlefish', 'squid', 'mantisshrimp', 'anemone']\n",
      "<class 'list'>\n",
      "5\n"
     ]
    }
   ],
   "source": [
    "sea_creatures = ['shark', 'cuttlefish', 'squid', 'mantisshrimp', 'anemone']\n",
    "\n",
    "print(sea_creatures)\n",
    "\n",
    "print(type(sea_creatures))\n",
    "\n",
    "print(len(sea_creatures))"
   ]
  },
  {
   "cell_type": "code",
   "execution_count": 30,
   "metadata": {
    "ExecuteTime": {
     "end_time": "2018-06-06T11:49:53.527389Z",
     "start_time": "2018-06-06T11:49:53.499816Z"
    }
   },
   "outputs": [
    {
     "name": "stdout",
     "output_type": "stream",
     "text": [
      "shark\n",
      "cuttlefish\n",
      "squid\n",
      "mantisshrimp\n",
      "anemone\n",
      "********************\n",
      "anemone\n",
      "mantisshrimp\n",
      "squid\n",
      "cuttlefish\n"
     ]
    },
    {
     "ename": "IndexError",
     "evalue": "list index out of range",
     "output_type": "error",
     "traceback": [
      "\u001b[1;31m------------------------------------------------------------------\u001b[0m",
      "\u001b[1;31mIndexError\u001b[0m                       Traceback (most recent call last)",
      "\u001b[1;32m<ipython-input-30-74d99ddebf72>\u001b[0m in \u001b[0;36m<module>\u001b[1;34m()\u001b[0m\n\u001b[0;32m     21\u001b[0m \u001b[0mprint\u001b[0m\u001b[1;33m(\u001b[0m\u001b[0msea_creatures\u001b[0m\u001b[1;33m[\u001b[0m\u001b[1;33m-\u001b[0m\u001b[1;36m4\u001b[0m\u001b[1;33m]\u001b[0m\u001b[1;33m)\u001b[0m\u001b[1;33m\u001b[0m\u001b[0m\n\u001b[0;32m     22\u001b[0m \u001b[1;33m\u001b[0m\u001b[0m\n\u001b[1;32m---> 23\u001b[1;33m \u001b[0mprint\u001b[0m\u001b[1;33m(\u001b[0m\u001b[0msea_creatures\u001b[0m\u001b[1;33m[\u001b[0m\u001b[1;33m-\u001b[0m\u001b[1;36m6\u001b[0m\u001b[1;33m]\u001b[0m\u001b[1;33m)\u001b[0m\u001b[1;33m\u001b[0m\u001b[0m\n\u001b[0m\u001b[0;32m     24\u001b[0m \u001b[1;33m\u001b[0m\u001b[0m\n\u001b[0;32m     25\u001b[0m \u001b[1;31m# try print(sea_creatures[-6]) it will throw out of range error\u001b[0m\u001b[1;33m\u001b[0m\u001b[1;33m\u001b[0m\u001b[0m\n",
      "\u001b[1;31mIndexError\u001b[0m: list index out of range"
     ]
    }
   ],
   "source": [
    "print(sea_creatures[0])\n",
    "\n",
    "print(sea_creatures[1])\n",
    "\n",
    "print(sea_creatures[2])\n",
    "\n",
    "print(sea_creatures[3])\n",
    "\n",
    "print(sea_creatures[4])\n",
    "\n",
    "# try print(sea_creatures[5]) it will throw out of range error\n",
    "\n",
    "print('*'*20)\n",
    "\n",
    "print(sea_creatures[-1])\n",
    "\n",
    "print(sea_creatures[-2])\n",
    "\n",
    "print(sea_creatures[-3])\n",
    "\n",
    "print(sea_creatures[-4])\n",
    "\n",
    "print(sea_creatures[-6])\n",
    "\n",
    "# try print(sea_creatures[-6]) it will throw out of range error\n"
   ]
  },
  {
   "cell_type": "code",
   "execution_count": 31,
   "metadata": {
    "ExecuteTime": {
     "end_time": "2018-06-06T11:58:23.050170Z",
     "start_time": "2018-06-06T11:58:23.033124Z"
    }
   },
   "outputs": [
    {
     "name": "stdout",
     "output_type": "stream",
     "text": [
      "[10, 'Hi', 20.2, True]\n"
     ]
    },
    {
     "data": {
      "text/plain": [
       "\"\\nThis is a multi line comment demonstrated by using triple single-quote\\n\\nAbove mentioned list 'l' is a collection of heterogeneous data types.\\n\""
      ]
     },
     "execution_count": 31,
     "metadata": {},
     "output_type": "execute_result"
    }
   ],
   "source": [
    "l = []\n",
    "\n",
    "l.append(10)\n",
    "\n",
    "l.append('Hi')\n",
    "\n",
    "l.append(20.20)\n",
    "\n",
    "l.append(True)\n",
    "\n",
    "print(l)\n",
    "\n",
    "'''\n",
    "This is a multi line comment demonstrated by using triple single-quote\n",
    "\n",
    "Above mentioned list 'l' is a collection of heterogeneous data types.\n",
    "'''"
   ]
  },
  {
   "cell_type": "code",
   "execution_count": 29,
   "metadata": {
    "ExecuteTime": {
     "end_time": "2018-08-16T09:48:25.042522Z",
     "start_time": "2018-08-16T09:48:25.036540Z"
    }
   },
   "outputs": [
    {
     "name": "stdout",
     "output_type": "stream",
     "text": [
      "a\n",
      "5\n"
     ]
    }
   ],
   "source": [
    "\"\"\"\n",
    "This is a multi line comment demonstrated by using triple double-quote\n",
    "\n",
    "This is an example for nested lists.\n",
    "\"\"\"\n",
    "\n",
    "nest_list = ['Happy', [2, 0, 1, 5]]\n",
    "\n",
    "print(nest_list[0][1])\n",
    "\n",
    "print(nest_list[1][3])"
   ]
  },
  {
   "cell_type": "code",
   "execution_count": 33,
   "metadata": {
    "ExecuteTime": {
     "end_time": "2018-06-06T11:58:29.186886Z",
     "start_time": "2018-06-06T11:58:29.182369Z"
    }
   },
   "outputs": [
    {
     "name": "stdout",
     "output_type": "stream",
     "text": [
      "['shark', 'cuttlefish', 'squid', 'mantisshrimp', 'anemone']\n",
      "['shark', 'octopus', 'squid', 'mantisshrimp', 'anemone']\n",
      "['shark', 'octopus', 'blobfish', 'mantisshrimp', 'anemone']\n"
     ]
    }
   ],
   "source": [
    "\"\"\"\n",
    "Because lists are mutable, below written code will\n",
    "overwrite existing list\n",
    "\n",
    "\"\"\"\n",
    "\n",
    "sea_creatures = ['shark', 'cuttlefish', 'squid', 'mantisshrimp', 'anemone']\n",
    "\n",
    "print(sea_creatures)\n",
    "\n",
    "sea_creatures[1] = 'octopus'\n",
    "\n",
    "print(sea_creatures)\n",
    "\n",
    "sea_creatures[-3] = 'blobfish'\n",
    "\n",
    "print(sea_creatures)"
   ]
  },
  {
   "cell_type": "code",
   "execution_count": 16,
   "metadata": {
    "ExecuteTime": {
     "end_time": "2018-05-23T14:35:23.128994Z",
     "start_time": "2018-05-23T14:35:23.121951Z"
    }
   },
   "outputs": [
    {
     "name": "stdout",
     "output_type": "stream",
     "text": [
      "['o', 'g', 'r']\n",
      "['p', 'r', 'o', 'g']\n",
      "['r', 'a', 'm', 'i', 'z']\n",
      "['a', 'm', 'i', 'z']\n",
      "['p', 'r', 'o', 'g', 'r', 'a', 'm', 'i', 'z']\n",
      "['a', 'm']\n",
      "['m', 'i', 'z']\n"
     ]
    }
   ],
   "source": [
    "# Below we are demonstrating the list slicing operation.\n",
    "\n",
    "my_list = ['p', 'r', 'o', 'g', 'r', 'a', 'm', 'i', 'z']\n",
    "\n",
    "print(my_list[2:5])\n",
    "\n",
    "print(my_list[:-5])\n",
    "\n",
    "print(my_list[-5:])\n",
    "\n",
    "print(my_list[5:])\n",
    "\n",
    "print(my_list[:])\n",
    "\n",
    "print(my_list[-4:-2])\n",
    "\n",
    "print(my_list[-3:])\n"
   ]
  },
  {
   "cell_type": "code",
   "execution_count": 1,
   "metadata": {
    "ExecuteTime": {
     "end_time": "2018-06-03T15:38:10.063291Z",
     "start_time": "2018-06-03T15:38:10.032391Z"
    }
   },
   "outputs": [],
   "source": [
    "# append(element)\n",
    "\n",
    "# insert(index, element) This will insert 'element' at the given 'index'\n",
    "\n",
    "# list1.extend(list2) appends list2 at the end of list1\n",
    "\n",
    "# list.index(element) \n",
    "\n",
    "# list.index(element, index) find next element starting at 'index'\n",
    "\n",
    "# list.remove(element)\n",
    "\n",
    "# list.sort() here list should contain one kind of data type\n",
    "\n",
    "# list.reverse()\n",
    "\n",
    "# list.pop(index)\n",
    "\n",
    "# list.count(element)"
   ]
  }
 ],
 "metadata": {
  "kernelspec": {
   "display_name": "Python 3",
   "language": "python",
   "name": "python3"
  },
  "language_info": {
   "codemirror_mode": {
    "name": "ipython",
    "version": 3
   },
   "file_extension": ".py",
   "mimetype": "text/x-python",
   "name": "python",
   "nbconvert_exporter": "python",
   "pygments_lexer": "ipython3",
   "version": "3.6.5"
  },
  "toc": {
   "nav_menu": {},
   "number_sections": true,
   "sideBar": true,
   "skip_h1_title": false,
   "title_cell": "Table of Contents",
   "title_sidebar": "Contents",
   "toc_cell": false,
   "toc_position": {},
   "toc_section_display": true,
   "toc_window_display": false
  },
  "varInspector": {
   "cols": {
    "lenName": 16,
    "lenType": 16,
    "lenVar": 40
   },
   "kernels_config": {
    "python": {
     "delete_cmd_postfix": "",
     "delete_cmd_prefix": "del ",
     "library": "var_list.py",
     "varRefreshCmd": "print(var_dic_list())"
    },
    "r": {
     "delete_cmd_postfix": ") ",
     "delete_cmd_prefix": "rm(",
     "library": "var_list.r",
     "varRefreshCmd": "cat(var_dic_list()) "
    }
   },
   "types_to_exclude": [
    "module",
    "function",
    "builtin_function_or_method",
    "instance",
    "_Feature"
   ],
   "window_display": false
  }
 },
 "nbformat": 4,
 "nbformat_minor": 2
}
