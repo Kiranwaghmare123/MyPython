{
 "cells": [
  {
   "cell_type": "markdown",
   "metadata": {},
   "source": [
    "# Python Programming Introduction"
   ]
  },
  {
   "cell_type": "markdown",
   "metadata": {
    "ExecuteTime": {
     "end_time": "2018-05-21T17:50:13.054524Z",
     "start_time": "2018-05-21T17:50:13.038897Z"
    }
   },
   "source": [
    "<img src=\"1.jpeg\">"
   ]
  },
  {
   "cell_type": "markdown",
   "metadata": {},
   "source": [
    "<b>Father of Python</b> - GUIDO VAN ROSSUM"
   ]
  },
  {
   "cell_type": "markdown",
   "metadata": {},
   "source": [
    "# Where can we use Python?\n",
    "1. Desktop Applications (Calculator, Notepad, etc..)\n",
    "2. Web Applications (Youtube, Dropbox, Google, Instagram, Quora, Spotify)\n",
    "3. Scientific and Numeric Computing (Scipy, Numpy)\n",
    "4. Database Applications (Library Management Systems, Pharmaceutical)\n",
    "5. Network Applications (Network Sniffer, Network Parameter extraction, Routing Algo's like OSPF)\n",
    "6. Developing Games (Battlefield, Sims 4)\n",
    "7. Data Science (Pandas, Matplotlib, Seaborn, etc)\n",
    "8. Machine Learning (scikit)\n",
    "9. AI (AIMA - AI: A Modern Approach)\n",
    "10. IOT (Raspberry pi, Phillips(works great with low level code in c++))\n"
   ]
  },
  {
   "cell_type": "markdown",
   "metadata": {},
   "source": [
    "# Features of Python:\n",
    "1. Simple and easy to learn\n",
    "2. Free and open source.\n",
    "3. General Purpose and high level programming language.\n",
    "4. Platform independent.\n",
    "5. Case Sensitive.\n",
    "6. Interpreted Language.\n",
    "7. Dynamically typed.\n",
    "8. Rich Library.\n",
    "9. We can write concise code using python."
   ]
  },
  {
   "cell_type": "markdown",
   "metadata": {},
   "source": [
    "# Input & Output"
   ]
  },
  {
   "cell_type": "code",
   "execution_count": 23,
   "metadata": {
    "ExecuteTime": {
     "end_time": "2018-05-22T03:28:54.379907Z",
     "start_time": "2018-05-22T03:28:54.362392Z"
    }
   },
   "outputs": [
    {
     "data": {
      "text/plain": [
       "\"\\nnum = input()\\nprint(num)\\n\\nnum = input()\\nprint('%d' % (num))\\n\""
      ]
     },
     "execution_count": 23,
     "metadata": {},
     "output_type": "execute_result"
    }
   ],
   "source": [
    "\"\"\"\n",
    "num = input()\n",
    "print(num)\n",
    "\n",
    "\n",
    "num = input()\n",
    "print('%d' % (num))\n",
    "\"\"\"\n",
    "\n",
    "# be aware of the error that you would encounter in above code\n",
    "# try using %s instead of %d"
   ]
  },
  {
   "cell_type": "code",
   "execution_count": 6,
   "metadata": {
    "ExecuteTime": {
     "end_time": "2018-06-05T11:41:37.729710Z",
     "start_time": "2018-06-05T11:41:37.712664Z"
    }
   },
   "outputs": [
    {
     "name": "stdout",
     "output_type": "stream",
     "text": [
      "['False', 'None', 'True', 'and', 'as', 'assert', 'break', 'class', 'continue', 'def', 'del', 'elif', 'else', 'except', 'finally', 'for', 'from', 'global', 'if', 'import', 'in', 'is', 'lambda', 'nonlocal', 'not', 'or', 'pass', 'raise', 'return', 'try', 'while', 'with', 'yield']\n"
     ]
    },
    {
     "data": {
      "text/plain": [
       "33"
      ]
     },
     "execution_count": 6,
     "metadata": {},
     "output_type": "execute_result"
    }
   ],
   "source": [
    "import keyword\n",
    "print(keyword.kwlist)\n",
    "len(keyword.kwlist)"
   ]
  },
  {
   "cell_type": "code",
   "execution_count": 25,
   "metadata": {
    "ExecuteTime": {
     "end_time": "2018-05-22T03:29:06.004059Z",
     "start_time": "2018-05-22T03:29:05.984740Z"
    }
   },
   "outputs": [
    {
     "data": {
      "text/plain": [
       "\"\\nnum2 = input('Please enter a number: ')\\nprint('User has entered', num2)\\n\\nnum2 = input('Please enter a number: ')\\nprint('User has entered %d as input' % (num2))\\n\""
      ]
     },
     "execution_count": 25,
     "metadata": {},
     "output_type": "execute_result"
    }
   ],
   "source": [
    "'''\n",
    "num2 = input('Please enter a number: ')\n",
    "print('User has entered', num2)\n",
    "\n",
    "num2 = input('Please enter a number: ')\n",
    "print('User has entered %d as input' % (num2))\n",
    "'''\n",
    "\n",
    "# be aware of the error that you would encounter in above code\n",
    "# try using %s instead of %d\n",
    "# another way is to typecaste(coded below)"
   ]
  },
  {
   "cell_type": "code",
   "execution_count": 12,
   "metadata": {
    "ExecuteTime": {
     "end_time": "2018-06-05T11:50:38.084330Z",
     "start_time": "2018-06-05T11:50:34.035809Z"
    }
   },
   "outputs": [
    {
     "name": "stdout",
     "output_type": "stream",
     "text": [
      "Please enter a number: 545\n",
      "User has entered 545 as input\n"
     ]
    }
   ],
   "source": [
    "num2 = int(input('Please enter a number: '))\n",
    "print('User has entered %d as input' % (num2))"
   ]
  },
  {
   "cell_type": "code",
   "execution_count": 26,
   "metadata": {
    "ExecuteTime": {
     "end_time": "2018-05-22T03:32:05.264900Z",
     "start_time": "2018-05-22T03:32:05.259387Z"
    }
   },
   "outputs": [],
   "source": [
    "#This entire statement won't be displayed\n",
    "#print('5'*6)\n",
    "#print(5,6,7)\n",
    "#print('Python', 1, 2)\n",
    "#print(1,2,3, sep=',')\n",
    "#print(1,2,3, sep=',', end='!!\\n')"
   ]
  },
  {
   "cell_type": "code",
   "execution_count": 25,
   "metadata": {
    "ExecuteTime": {
     "end_time": "2018-06-05T12:01:16.512330Z",
     "start_time": "2018-06-05T12:01:16.506312Z"
    }
   },
   "outputs": [
    {
     "name": "stdout",
     "output_type": "stream",
     "text": [
      "555555\n",
      "5 6 7\n",
      "Python 1 2\n",
      "1,2,3\n",
      "1,2,3!!\n"
     ]
    }
   ],
   "source": [
    "print('5'*6)\n",
    "print(5,6,7)\n",
    "print('Python', 1, 2)\n",
    "print(1,2,3, sep=',')\n",
    "print(1,2,3, sep=',', end='!!\\n')"
   ]
  },
  {
   "cell_type": "code",
   "execution_count": null,
   "metadata": {},
   "outputs": [],
   "source": []
  }
 ],
 "metadata": {
  "kernelspec": {
   "display_name": "Python 3",
   "language": "python",
   "name": "python3"
  },
  "language_info": {
   "codemirror_mode": {
    "name": "ipython",
    "version": 3
   },
   "file_extension": ".py",
   "mimetype": "text/x-python",
   "name": "python",
   "nbconvert_exporter": "python",
   "pygments_lexer": "ipython3",
   "version": "3.6.5"
  },
  "toc": {
   "nav_menu": {},
   "number_sections": true,
   "sideBar": true,
   "skip_h1_title": false,
   "title_cell": "Table of Contents",
   "title_sidebar": "Contents",
   "toc_cell": false,
   "toc_position": {},
   "toc_section_display": true,
   "toc_window_display": false
  },
  "varInspector": {
   "cols": {
    "lenName": 16,
    "lenType": 16,
    "lenVar": 40
   },
   "kernels_config": {
    "python": {
     "delete_cmd_postfix": "",
     "delete_cmd_prefix": "del ",
     "library": "var_list.py",
     "varRefreshCmd": "print(var_dic_list())"
    },
    "r": {
     "delete_cmd_postfix": ") ",
     "delete_cmd_prefix": "rm(",
     "library": "var_list.r",
     "varRefreshCmd": "cat(var_dic_list()) "
    }
   },
   "types_to_exclude": [
    "module",
    "function",
    "builtin_function_or_method",
    "instance",
    "_Feature"
   ],
   "window_display": false
  }
 },
 "nbformat": 4,
 "nbformat_minor": 2
}
